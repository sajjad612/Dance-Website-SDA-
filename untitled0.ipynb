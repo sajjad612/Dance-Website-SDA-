{
  "nbformat": 4,
  "nbformat_minor": 0,
  "metadata": {
    "colab": {
      "provenance": [],
      "authorship_tag": "ABX9TyPZjqIYDiTKCrbttbN48dJ7",
      "include_colab_link": true
    },
    "kernelspec": {
      "name": "python3",
      "display_name": "Python 3"
    },
    "language_info": {
      "name": "python"
    }
  },
  "cells": [
    {
      "cell_type": "markdown",
      "metadata": {
        "id": "view-in-github",
        "colab_type": "text"
      },
      "source": [
        "<a href=\"https://colab.research.google.com/github/sajjad612/Dance-Website-SDA-/blob/main/untitled0.ipynb\" target=\"_parent\"><img src=\"https://colab.research.google.com/assets/colab-badge.svg\" alt=\"Open In Colab\"/></a>"
      ]
    },
    {
      "cell_type": "code",
      "source": [
        "!pip install docx2txt\n",
        "import docx2txt"
      ],
      "metadata": {
        "colab": {
          "base_uri": "https://localhost:8080/"
        },
        "id": "5SqTscmVxf1H",
        "outputId": "db39560b-dd34-4d59-f027-eb5a3c8b634d"
      },
      "execution_count": null,
      "outputs": [
        {
          "output_type": "stream",
          "name": "stdout",
          "text": [
            "Looking in indexes: https://pypi.org/simple, https://us-python.pkg.dev/colab-wheels/public/simple/\n",
            "Collecting docx2txt\n",
            "  Downloading docx2txt-0.8.tar.gz (2.8 kB)\n",
            "  Preparing metadata (setup.py) ... \u001b[?25l\u001b[?25hdone\n",
            "Building wheels for collected packages: docx2txt\n",
            "  Building wheel for docx2txt (setup.py) ... \u001b[?25l\u001b[?25hdone\n",
            "  Created wheel for docx2txt: filename=docx2txt-0.8-py3-none-any.whl size=3977 sha256=5f8a5bacf8768e880b9ce7d5b670edad6b53eae4f87f2986f967f0cf0fb3d616\n",
            "  Stored in directory: /root/.cache/pip/wheels/40/75/01/e6c444034338bde9c7947d3467807f889123465c2371e77418\n",
            "Successfully built docx2txt\n",
            "Installing collected packages: docx2txt\n",
            "Successfully installed docx2txt-0.8\n"
          ]
        }
      ]
    },
    {
      "cell_type": "code",
      "source": [
        "job_description = docx2txt.process('/content/description.docx')\n",
        "resume = docx2txt.process('/content/resume_001.docx')"
      ],
      "metadata": {
        "id": "BfS7YMCLzTFg"
      },
      "execution_count": null,
      "outputs": []
    },
    {
      "cell_type": "code",
      "source": [
        "print(job_description)"
      ],
      "metadata": {
        "colab": {
          "base_uri": "https://localhost:8080/"
        },
        "id": "Qh94VaJpzdhy",
        "outputId": "c8e2151b-23f7-499a-91be-eb246715b3d8"
      },
      "execution_count": null,
      "outputs": [
        {
          "output_type": "stream",
          "name": "stdout",
          "text": [
            "Job Title: Intermediate Web Developer\n",
            "\n",
            "Job Type: Full-time\n",
            "\n",
            "Location: [Insert location]\n",
            "\n",
            "Overview:\n",
            "\n",
            "We are seeking a skilled Intermediate Web Developer to join our growing team. The ideal candidate should have a strong foundation in web development, with experience in developing and maintaining web applications. The successful candidate will be responsible for coding, designing, and modifying websites, from layout to function, according to our clients' specifications.\n",
            "\n",
            "Responsibilities:\n",
            "\n",
            "Collaborate with the development team and clients to identify website specifications and requirements.\n",
            "\n",
            "Develop and maintain websites using modern technologies such as HTML, CSS, JavaScript, and other front-end frameworks.\n",
            "\n",
            "Perform regular updates and maintenance of websites, including bug fixes, security updates, and content updates.\n",
            "\n",
            "Ensure the website is optimized for maximum speed, scalability, and usability.\n",
            "\n",
            "Participate in code reviews, testing, and debugging to ensure high-quality code and adherence to best practices.\n",
            "\n",
            "Stay up-to-date with emerging trends and technologies in web development and propose improvements to the existing websites.\n",
            "\n",
            "Communicate effectively with the team to manage timelines and deliverables.\n",
            "\n",
            "Troubleshoot and resolve issues related to websites and web applications.\n",
            "\n",
            "Requirements:\n",
            "\n",
            "Bachelor's degree in Computer Science, Web Development or a related field\n",
            "\n",
            "3+ years of experience in web development\n",
            "\n",
            "Proficiency in front-end technologies such as HTML, CSS, JavaScript, and jQuery\n",
            "\n",
            "Experience with popular front-end frameworks such as React, Angular, or Vue\n",
            "\n",
            "Experience with back-end technologies such as PHP, Ruby on Rails, or Node.js\n",
            "\n",
            "Knowledge of database technologies such as MySQL, MongoDB, or PostgreSQL\n",
            "\n",
            "Experience with version control systems such as Git\n",
            "\n",
            "Familiarity with Agile development methodologies\n",
            "\n",
            "Strong problem-solving and debugging skills\n",
            "\n",
            "Excellent communication and collaboration skills\n",
            "\n",
            "Ability to work independently or as part of a team\n",
            "\n",
            "If you are passionate about web development and eager to work with a dynamic team, we encourage you to apply. Please submit your resume, cover letter, and a link to your portfolio demonstrating your experience with web development.\n"
          ]
        }
      ]
    },
    {
      "cell_type": "code",
      "source": [
        "content = [job_description, resume]\n"
      ],
      "metadata": {
        "id": "7YXgjmrkzh0o"
      },
      "execution_count": null,
      "outputs": []
    },
    {
      "cell_type": "code",
      "source": [
        "from sklearn.feature_extraction.text import CountVectorizer\n",
        "cv = CountVectorizer()\n",
        "count_matrix = cv.fit_transform(content)"
      ],
      "metadata": {
        "id": "f9CwKOTmzl35"
      },
      "execution_count": null,
      "outputs": []
    },
    {
      "cell_type": "code",
      "source": [
        "from sklearn.metrics.pairwise import cosine_similarity\n",
        "mat = cosine_similarity(count_matrix)\n",
        "print(mat)"
      ],
      "metadata": {
        "colab": {
          "base_uri": "https://localhost:8080/"
        },
        "id": "sh1vGwtizqul",
        "outputId": "403ecaa2-6b8f-4168-8f11-0a57254a6035"
      },
      "execution_count": null,
      "outputs": [
        {
          "output_type": "stream",
          "name": "stdout",
          "text": [
            "[[1.         0.59554491]\n",
            " [0.59554491 1.        ]]\n"
          ]
        }
      ]
    },
    {
      "cell_type": "code",
      "source": [
        "x = (mat[1][0]*100)"
      ],
      "metadata": {
        "id": "NczExK1R0Rln"
      },
      "execution_count": null,
      "outputs": []
    },
    {
      "cell_type": "code",
      "source": [
        "print('Resume Matches by: '+ \"{:.2f}\".format(x) + '%')"
      ],
      "metadata": {
        "colab": {
          "base_uri": "https://localhost:8080/"
        },
        "id": "gyLMPy9Wzw9e",
        "outputId": "4418b473-26e0-48c9-a616-7f6eb9209fef"
      },
      "execution_count": null,
      "outputs": [
        {
          "output_type": "stream",
          "name": "stdout",
          "text": [
            "Resume Matches by: 59.55%\n"
          ]
        }
      ]
    }
  ]
}